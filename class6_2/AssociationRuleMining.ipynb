{
 "cells": [
  {
   "cell_type": "markdown",
   "metadata": {},
   "source": [
    "##A simple example of Association Rule Mining based on http://orange.biolab.si/docs/latest/reference/rst/Orange.associate.html"
   ]
  },
  {
   "cell_type": "code",
   "execution_count": null,
   "metadata": {
    "collapsed": true
   },
   "outputs": [],
   "source": [
    "import Orange #pip install orange\n",
    "data = Orange.data.Table(\"market-basket.basket\")"
   ]
  },
  {
   "cell_type": "code",
   "execution_count": null,
   "metadata": {
    "collapsed": false
   },
   "outputs": [],
   "source": [
    "for d in data:\n",
    "    print d"
   ]
  },
  {
   "cell_type": "code",
   "execution_count": null,
   "metadata": {
    "collapsed": false
   },
   "outputs": [],
   "source": [
    "rules = Orange.associate.AssociationRulesSparseInducer(data, support=0.3)\n",
    "print \"%4s %4s  %s\" % (\"Supp\", \"Conf\", \"Rule\")\n",
    "for r in rules[:5]:\n",
    "    print \"%4.1f %4.1f  %s\" % (r.support, r.confidence, r)"
   ]
  },
  {
   "cell_type": "markdown",
   "metadata": {},
   "source": [
    "###Spanish Inquisition example"
   ]
  },
  {
   "cell_type": "code",
   "execution_count": null,
   "metadata": {
    "collapsed": true
   },
   "outputs": [],
   "source": [
    "data = Orange.data.Table(\"inquisition.basket\")"
   ]
  },
  {
   "cell_type": "code",
   "execution_count": null,
   "metadata": {
    "collapsed": false
   },
   "outputs": [],
   "source": [
    "for d in data:\n",
    "    print d"
   ]
  },
  {
   "cell_type": "code",
   "execution_count": null,
   "metadata": {
    "collapsed": false
   },
   "outputs": [],
   "source": [
    "rules = Orange.associate.AssociationRulesSparseInducer(data, support = 0.5)\n",
    "\n",
    "print \"%5s   %5s\" % (\"supp\", \"conf\")\n",
    "for r in rules:\n",
    "    print \"%5.3f   %5.3f   %s\" % (r.support, r.confidence, r)"
   ]
  }
 ],
 "metadata": {
  "kernelspec": {
   "display_name": "Python 2",
   "language": "python",
   "name": "python2"
  },
  "language_info": {
   "codemirror_mode": {
    "name": "ipython",
    "version": 2
   },
   "file_extension": ".py",
   "mimetype": "text/x-python",
   "name": "python",
   "nbconvert_exporter": "python",
   "pygments_lexer": "ipython2",
   "version": "2.7.10"
  }
 },
 "nbformat": 4,
 "nbformat_minor": 0
}
