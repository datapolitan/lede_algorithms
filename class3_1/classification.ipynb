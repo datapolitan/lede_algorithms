{
 "cells": [
  {
   "cell_type": "markdown",
   "metadata": {},
   "source": [
    "# Classification in the Wild"
   ]
  },
  {
   "cell_type": "markdown",
   "metadata": {},
   "source": [
    "This code comes straight from a Times project that helps us standardize campaign finance data to enable new types of analyses. Specifically, it tries to categorize a free-form occupation/employer string into a discrete job category (for example, the strings \"LAWYER\" and \"ATTORNEY\" would both be categorized under \"LAW\").\n",
    "\n",
    "We use this to create one of a large number of features that inform the larger predictive model we use for standardization. But it also shows the power of simple classification in action."
   ]
  },
  {
   "cell_type": "code",
   "execution_count": 2,
   "metadata": {
    "collapsed": true
   },
   "outputs": [],
   "source": [
    "import csv, re, string\n",
    "import numpy as np\n",
    "from sklearn.linear_model import LogisticRegression\n",
    "from sklearn.feature_extraction.text import CountVectorizer\n",
    "from sklearn.pipeline import Pipeline"
   ]
  },
  {
   "cell_type": "code",
   "execution_count": 30,
   "metadata": {
    "collapsed": false
   },
   "outputs": [],
   "source": [
    "# Some basic setup for data-cleaning purposes\n",
    "PUNCTUATION = re.compile('[%s]' % re.escape(string.punctuation))\n",
    "VALID_CLASSES = ['A', 'B', 'C', 'D', 'E', 'F', 'G', 'H', 'J', 'K', 'L', 'M', 'T', 'X', 'Z']"
   ]
  },
  {
   "cell_type": "code",
   "execution_count": 16,
   "metadata": {
    "collapsed": false
   },
   "outputs": [],
   "source": [
    "# Open the training data and clean it up a bit\n",
    "data = []\n",
    "with open('data/category-training.csv', 'r') as f:\n",
    "    inputreader = csv.reader(f, delimiter=',', quotechar='\"')\n",
    "    for r in inputreader:\n",
    "        # Concatenate the occupation and employer strings together and remove\n",
    "        # punctuation. Both occupation and employer will be used in prediction.\n",
    "        text = PUNCTUATION.sub('', ' '.join(r[0:2]))\n",
    "        if len(r[2]) > 1 and r[2][0] in VALID_CLASSES:\n",
    "            # We're only attempting to classify the first character of the\n",
    "            # industry prefix (\"A\", \"B\", etc.) -- not the whole thing. That's\n",
    "            # what the r[2][0] piece is about.\n",
    "            data.append([text, r[2][0]])"
   ]
  },
  {
   "cell_type": "code",
   "execution_count": 18,
   "metadata": {
    "collapsed": true
   },
   "outputs": [],
   "source": [
    "    # Separate the text of the occupation/employer strings from the correct classification\n",
    "    texts = np.array([el[0] for el in data])\n",
    "    classes = np.array([el[1] for el in data])"
   ]
  },
  {
   "cell_type": "code",
   "execution_count": 19,
   "metadata": {
    "collapsed": false
   },
   "outputs": [
    {
     "name": "stdout",
     "output_type": "stream",
     "text": [
      "['Owner First Priority Title Llc' 'SENIOR PARTNER ARES MANAGEMENT'\n",
      " 'CEO HB AGENCY' ..., 'INVESTMENT EXECUTIVE FEF MANAGEMENT LLC'\n",
      " 'Owner Fair Funeral Home' 'ST MARTIN  LIRERRE LAW FIRM ']\n"
     ]
    }
   ],
   "source": [
    "print texts"
   ]
  },
  {
   "cell_type": "code",
   "execution_count": 20,
   "metadata": {
    "collapsed": false
   },
   "outputs": [
    {
     "name": "stdout",
     "output_type": "stream",
     "text": [
      "['F' 'Z' 'Z' ..., 'F' 'G' 'K']\n"
     ]
    }
   ],
   "source": [
    "print classes"
   ]
  },
  {
   "cell_type": "code",
   "execution_count": 31,
   "metadata": {
    "collapsed": true
   },
   "outputs": [],
   "source": [
    "# Build a simple machine learning pipeline to turn the above arrays into something scikit-learn understands\n",
    "pipeline = Pipeline([\n",
    "  ('vectorizer', CountVectorizer(\n",
    "    ngram_range=(1,2),\n",
    "    stop_words='english',\n",
    "    min_df=2,\n",
    "    max_df=len(texts))),\n",
    "  ('classifier',  LogisticRegression())\n",
    "])"
   ]
  },
  {
   "cell_type": "code",
   "execution_count": 32,
   "metadata": {
    "collapsed": false
   },
   "outputs": [
    {
     "data": {
      "text/plain": [
       "Pipeline(steps=[('vectorizer', CountVectorizer(analyzer=u'word', binary=False, decode_error=u'strict',\n",
       "        dtype=<type 'numpy.int64'>, encoding=u'utf-8', input=u'content',\n",
       "        lowercase=True, max_df=66923, max_features=None, min_df=2,\n",
       "        ngram_range=(1, 2), preprocessor=None, stop_words='english...',\n",
       "          penalty='l2', random_state=None, solver='liblinear', tol=0.0001,\n",
       "          verbose=0))])"
      ]
     },
     "execution_count": 32,
     "metadata": {},
     "output_type": "execute_result"
    }
   ],
   "source": [
    "# Fit the model\n",
    "pipeline.fit(np.asarray(texts), np.asarray(classes))"
   ]
  },
  {
   "cell_type": "code",
   "execution_count": 27,
   "metadata": {
    "collapsed": false
   },
   "outputs": [
    {
     "name": "stdout",
     "output_type": "stream",
     "text": [
      "['K']\n"
     ]
    }
   ],
   "source": [
    "# Now, run some predictions. \"K\" means \"LAW\" in this case.\n",
    "print pipeline.predict(['LAWYER'])"
   ]
  },
  {
   "cell_type": "code",
   "execution_count": 28,
   "metadata": {
    "collapsed": false
   },
   "outputs": [
    {
     "name": "stdout",
     "output_type": "stream",
     "text": [
      "['K']\n"
     ]
    }
   ],
   "source": [
    "# It also recognizes law firms!\n",
    "print pipeline.predict(['SKADDEN ARPS'])"
   ]
  },
  {
   "cell_type": "code",
   "execution_count": 34,
   "metadata": {
    "collapsed": false,
    "scrolled": true
   },
   "outputs": [
    {
     "name": "stdout",
     "output_type": "stream",
     "text": [
      "['F']\n"
     ]
    }
   ],
   "source": [
    "# The \"F\" category represents business and finance.\n",
    "print pipeline.predict(['CEO'])"
   ]
  }
 ],
 "metadata": {
  "kernelspec": {
   "display_name": "Python 2",
   "language": "python",
   "name": "python2"
  },
  "language_info": {
   "codemirror_mode": {
    "name": "ipython",
    "version": 2
   },
   "file_extension": ".py",
   "mimetype": "text/x-python",
   "name": "python",
   "nbconvert_exporter": "python",
   "pygments_lexer": "ipython2",
   "version": "2.7.9"
  }
 },
 "nbformat": 4,
 "nbformat_minor": 0
}
