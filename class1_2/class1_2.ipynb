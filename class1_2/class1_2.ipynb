{
 "metadata": {
  "name": "",
  "signature": "sha256:ee941c7367a336a9d6eae3ad6211ef2dbd8e7e6271cd060655facd35b3fd745e"
 },
 "nbformat": 3,
 "nbformat_minor": 0,
 "worksheets": [
  {
   "cells": [
    {
     "cell_type": "code",
     "collapsed": false,
     "input": [
      "first_name = 'Richard'\n",
      "last_name = 'Dunks'\n",
      "number = 3"
     ],
     "language": "python",
     "metadata": {},
     "outputs": [],
     "prompt_number": 5
    },
    {
     "cell_type": "code",
     "collapsed": false,
     "input": [
      "full_name = \"%s %s %s\" % (first_name,last_name,number)"
     ],
     "language": "python",
     "metadata": {},
     "outputs": [],
     "prompt_number": 6
    },
    {
     "cell_type": "code",
     "collapsed": false,
     "input": [
      "full_name"
     ],
     "language": "python",
     "metadata": {},
     "outputs": [
      {
       "metadata": {},
       "output_type": "pyout",
       "prompt_number": 7,
       "text": [
        "'Richard Dunks 3'"
       ]
      }
     ],
     "prompt_number": 7
    },
    {
     "cell_type": "code",
     "collapsed": false,
     "input": [
      "import pandas as pd # import the pandas package\n",
      "%matplotlib inline"
     ],
     "language": "python",
     "metadata": {},
     "outputs": [],
     "prompt_number": 10
    },
    {
     "cell_type": "code",
     "collapsed": false,
     "input": [
      "df = pd.read_csv(\"Data_Collection_Sheet.csv\")"
     ],
     "language": "python",
     "metadata": {},
     "outputs": [],
     "prompt_number": 11
    },
    {
     "cell_type": "code",
     "collapsed": false,
     "input": [
      "df['siblings (not including you)'].hist(bins=3)"
     ],
     "language": "python",
     "metadata": {},
     "outputs": [
      {
       "metadata": {},
       "output_type": "pyout",
       "prompt_number": 23,
       "text": [
        "<matplotlib.axes.AxesSubplot at 0x1085fe5d0>"
       ]
      },
      {
       "metadata": {},
       "output_type": "display_data",
       "png": "[encoded data removed]",
       "text": [
        "<matplotlib.figure.Figure at 0x10863f350>"
       ]
      }
     ],
     "prompt_number": 23
    },
    {
     "cell_type": "code",
     "collapsed": false,
     "input": [
      "df.mean()"
     ],
     "language": "python",
     "metadata": {},
     "outputs": [
      {
       "metadata": {},
       "output_type": "pyout",
       "prompt_number": 18,
       "text": [
        "height (inches)                 66.623477\n",
        "age (years)                     29.500000\n",
        "siblings (not including you)     1.500000\n",
        "dtype: float64"
       ]
      }
     ],
     "prompt_number": 18
    },
    {
     "cell_type": "code",
     "collapsed": false,
     "input": [
      "df.median()"
     ],
     "language": "python",
     "metadata": {},
     "outputs": [
      {
       "metadata": {},
       "output_type": "pyout",
       "prompt_number": 19,
       "text": [
        "height (inches)                 66.5\n",
        "age (years)                     27.0\n",
        "siblings (not including you)     1.0\n",
        "dtype: float64"
       ]
      }
     ],
     "prompt_number": 19
    },
    {
     "cell_type": "code",
     "collapsed": false,
     "input": [
      "df['height (inches)'].max() - df['height (inches)'].min()"
     ],
     "language": "python",
     "metadata": {},
     "outputs": [
      {
       "metadata": {},
       "output_type": "pyout",
       "prompt_number": 25,
       "text": [
        "13.0"
       ]
      }
     ],
     "prompt_number": 25
    },
    {
     "cell_type": "code",
     "collapsed": false,
     "input": [
      "df.std()"
     ],
     "language": "python",
     "metadata": {},
     "outputs": [
      {
       "metadata": {},
       "output_type": "pyout",
       "prompt_number": 26,
       "text": [
        "height (inches)                 3.239595\n",
        "age (years)                     7.676495\n",
        "siblings (not including you)    1.057850\n",
        "dtype: float64"
       ]
      }
     ],
     "prompt_number": 26
    },
    {
     "cell_type": "code",
     "collapsed": false,
     "input": [
      "df['height (inches)'].mean()"
     ],
     "language": "python",
     "metadata": {},
     "outputs": [
      {
       "metadata": {},
       "output_type": "pyout",
       "prompt_number": 27,
       "text": [
        "66.623477272727271"
       ]
      }
     ],
     "prompt_number": 27
    },
    {
     "cell_type": "code",
     "collapsed": false,
     "input": [
      "df.boxplot()"
     ],
     "language": "python",
     "metadata": {},
     "outputs": [
      {
       "metadata": {},
       "output_type": "pyout",
       "prompt_number": 30,
       "text": [
        "{'boxes': [<matplotlib.lines.Line2D at 0x108b77c50>,\n",
        "  <matplotlib.lines.Line2D at 0x108ad6e90>,\n",
        "  <matplotlib.lines.Line2D at 0x108b89110>],\n",
        " 'caps': [<matplotlib.lines.Line2D at 0x108b64f90>,\n",
        "  <matplotlib.lines.Line2D at 0x108b77610>,\n",
        "  <matplotlib.lines.Line2D at 0x108ad6210>,\n",
        "  <matplotlib.lines.Line2D at 0x108ad6850>,\n",
        "  <matplotlib.lines.Line2D at 0x108b7e450>,\n",
        "  <matplotlib.lines.Line2D at 0x108b7ea90>],\n",
        " 'fliers': [<matplotlib.lines.Line2D at 0x108ac9910>,\n",
        "  <matplotlib.lines.Line2D at 0x108ac9f10>,\n",
        "  <matplotlib.lines.Line2D at 0x108adfb50>,\n",
        "  <matplotlib.lines.Line2D at 0x108aef190>,\n",
        "  <matplotlib.lines.Line2D at 0x108b89d90>,\n",
        "  <matplotlib.lines.Line2D at 0x108b94790>],\n",
        " 'medians': [<matplotlib.lines.Line2D at 0x108ac92d0>,\n",
        "  <matplotlib.lines.Line2D at 0x108adf510>,\n",
        "  <matplotlib.lines.Line2D at 0x108b89750>],\n",
        " 'whiskers': [<matplotlib.lines.Line2D at 0x108b64650>,\n",
        "  <matplotlib.lines.Line2D at 0x108b648d0>,\n",
        "  <matplotlib.lines.Line2D at 0x108abd550>,\n",
        "  <matplotlib.lines.Line2D at 0x108abdb90>,\n",
        "  <matplotlib.lines.Line2D at 0x108aefb50>,\n",
        "  <matplotlib.lines.Line2D at 0x108aefdd0>]}"
       ]
      },
      {
       "metadata": {},
       "output_type": "display_data",
       "png": "[encoded data removed]",
       "text": [
        "<matplotlib.figure.Figure at 0x107273ed0>"
       ]
      }
     ],
     "prompt_number": 30
    },
    {
     "cell_type": "code",
     "collapsed": false,
     "input": [],
     "language": "python",
     "metadata": {},
     "outputs": []
    }
   ],
   "metadata": {}
  }
 ]
}